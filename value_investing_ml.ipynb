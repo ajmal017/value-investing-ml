{
  "nbformat": 4,
  "nbformat_minor": 0,
  "metadata": {
    "colab": {
      "name": "value_investing_ml.ipynb",
      "provenance": [],
      "collapsed_sections": [],
      "machine_shape": "hm"
    },
    "kernelspec": {
      "name": "python3",
      "display_name": "Python 3"
    }
  },
  "cells": [
    {
      "cell_type": "markdown",
      "metadata": {
        "id": "J_8TULVuWqOH",
        "colab_type": "text"
      },
      "source": [
        "# Value investing with ML\n",
        "### Objective: Evaluate if a stock is relatively undervalued or overvalued using ML, \n",
        "### Steps:\n",
        "1. Get Data: We need data to train our model\n",
        "2. Prepare Data: Clean, normalize, and get data in a form that we can feed into our model\n",
        "3. Train Model: Feed in prepared to our Model\n",
        "4. Evaluate and Fix: Does the Model work? Also, fix any bugs common Machine Learning bugs that may have appeared\n",
        "5. Develop Algorithm: Backtest ML Model based Algorithm\n",
        "6. Analyze Performance: Measure performance and risk of our Algorithm\n",
        "\n",
        "### In-depth Explanation of strategy\n",
        "Traditionally, <b>Value Investing</b> is buying a company when it looks cheap, and selling it once it seems expensive. To determine the relative value of a company is where Machine Learning comes in. We will run fundamental data through our model, and through averaging of results through ensemble, we will get a model that can estimate the relative \"fairness\" of the value of a company. When a company is below \"fair\", it is considered to be \"undervalued\" and when a company is above, it is considered to be \"overvalued\", relatively speaking.\n",
        "\n",
        "### Caveats\n",
        "Since we cannot buy/sell companies that go bankrupt, there could be survivorship bias in our model."
      ]
    },
    {
      "cell_type": "code",
      "metadata": {
        "id": "6f06y2IaB19c",
        "colab_type": "code",
        "outputId": "8fbe729a-4e40-447c-c8b9-efc6f878460a",
        "colab": {
          "base_uri": "https://localhost:8080/",
          "height": 353
        }
      },
      "source": [
        "# STEP 1: get data\n",
        "import simfin as sf\n",
        "from simfin.names import *\n",
        "import pandas as pd\n",
        "\n",
        "sf.set_data_dir('data') # which folder to store data\n",
        "sf.set_api_key(api_key='free')\n",
        "\n",
        "# load data\n",
        "data1 = sf.load_income(variant='annual', market='us').copy()\n",
        "data1.reset_index(inplace=True)\n",
        "data2 = sf.load_cashflow(variant='annual', market='us').copy()\n",
        "data2.reset_index(inplace=True)\n",
        "data3 = sf.load_balance(variant='annual', market='us').copy()\n",
        "data3.reset_index(inplace=True)\n",
        "hub = sf.StockHub(market='us')\n",
        "data4 = hub.val_signals().copy()\n",
        "data4.reset_index(inplace=True)\n",
        "data5 = hub.val_signals(variant='latest').copy()\n",
        "data5.reset_index(inplace=True)\n"
      ],
      "execution_count": 111,
      "outputs": [
        {
          "output_type": "stream",
          "text": [
            "Dataset \"us-income-annual\" on disk (0 days old).\n",
            "- Loading from disk ... Done!\n",
            "Dataset \"us-cashflow-annual\" on disk (0 days old).\n",
            "- Loading from disk ... Done!\n",
            "Dataset \"us-balance-annual\" on disk (0 days old).\n",
            "- Loading from disk ... Done!\n",
            "Dataset \"us-shareprices-daily\" on disk (0 days old).\n",
            "- Loading from disk ... Done!\n",
            "Dataset \"us-income-ttm\" on disk (0 days old).\n",
            "- Loading from disk ... Done!\n",
            "Dataset \"us-balance-ttm\" on disk (0 days old).\n",
            "- Loading from disk ... Done!\n",
            "Dataset \"us-cashflow-ttm\" on disk (0 days old).\n",
            "- Loading from disk ... Done!\n",
            "Cache-file 'val_signals-77ca1f39.pickle' on disk (0 days old).\n",
            "- Loading from disk ... Done!\n",
            "Dataset \"us-shareprices-latest\" on disk (0 days old).\n",
            "- Loading from disk ... Done!\n",
            "Cache-file 'val_signals-9541e2e6.pickle' on disk (0 days old).\n",
            "- Loading from disk ... Done!\n"
          ],
          "name": "stdout"
        }
      ]
    },
    {
      "cell_type": "code",
      "metadata": {
        "id": "5RERv4mrk7kV",
        "colab_type": "code",
        "colab": {}
      },
      "source": [
        "# STEP 2: clean and prepare data\n",
        "rows_to_drop = ['SimFinId', 'Currency', 'Fiscal Period', 'Fiscal Year', \n",
        "       'Publish Date', 'Shares (Diluted)']\n",
        "def drop_rows(df):\n",
        "    return df.drop(rows_to_drop, axis=1)\n",
        "    \n",
        "\n",
        "df1 = drop_rows(data1)\n",
        "df2 = drop_rows(data2)\n",
        "df3 = drop_rows(data3)\n",
        "df4 = data4[[TICKER, DATE, MARKET_CAP]]"
      ],
      "execution_count": 0,
      "outputs": []
    },
    {
      "cell_type": "code",
      "metadata": {
        "id": "0igblvRRk52w",
        "colab_type": "code",
        "colab": {
          "base_uri": "https://localhost:8080/",
          "height": 252
        },
        "outputId": "2eb99a51-b6d9-4f24-9b3e-28cab010a60d"
      },
      "source": [
        "# join data together\n",
        "super_df = df1.merge(df2, on=[TICKER, REPORT_DATE], how='inner')\n",
        "print(super_df.head)\n",
        "super_df = super_df.merge(df3, on=[TICKER, REPORT_DATE], how='inner')\n",
        "super_df[REPORT_DATE] = pd.to_datetime(super_df[REPORT_DATE]).dt.normalize()\n",
        "super_df = super_df.merge(df4, left_on=[TICKER, REPORT_DATE], right_on=[TICKER, DATE], how='inner')"
      ],
      "execution_count": 117,
      "outputs": [
        {
          "output_type": "stream",
          "text": [
            "<bound method NDFrame.head of       Ticker  ... Net Change in Cash\n",
            "0          A  ...         -421000000\n",
            "1          A  ...         1074000000\n",
            "2          A  ...          170000000\n",
            "3          A  ...          878000000\n",
            "4          A  ...        -1174000000\n",
            "...      ...  ...                ...\n",
            "15245    low  ...         -150000000\n",
            "15246    low  ...           75000000\n",
            "15247    low  ...          -61000000\n",
            "15248    low  ...          153000000\n",
            "15249    low  ...           30000000\n",
            "\n",
            "[15250 rows x 40 columns]>\n"
          ],
          "name": "stdout"
        }
      ]
    },
    {
      "cell_type": "code",
      "metadata": {
        "id": "gF3vvEc6k6_U",
        "colab_type": "code",
        "outputId": "a5585f6c-cde4-4214-c5dd-27df4e6f16a1",
        "colab": {
          "base_uri": "https://localhost:8080/",
          "height": 538
        }
      },
      "source": [
        "super_df.columns"
      ],
      "execution_count": 0,
      "outputs": [
        {
          "output_type": "execute_result",
          "data": {
            "text/plain": [
              "Index(['Ticker', 'Report Date', 'Shares (Basic)_x', 'Revenue',\n",
              "       'Cost of Revenue', 'Gross Profit', 'Operating Expenses',\n",
              "       'Selling, General & Administrative', 'Research & Development',\n",
              "       'Depreciation & Amortization_x', 'Operating Income (Loss)',\n",
              "       'Non-Operating Income (Loss)', 'Interest Expense, Net',\n",
              "       'Pretax Income (Loss), Adj.', 'Abnormal Gains (Losses)',\n",
              "       'Pretax Income (Loss)', 'Income Tax (Expense) Benefit, Net',\n",
              "       'Income (Loss) from Continuing Operations',\n",
              "       'Net Extraordinary Gains (Losses)', 'Net Income', 'Net Income (Common)',\n",
              "       'Shares (Basic)_y', 'Net Income/Starting Line',\n",
              "       'Depreciation & Amortization_y', 'Non-Cash Items',\n",
              "       'Change in Working Capital', 'Change in Accounts Receivable',\n",
              "       'Change in Inventories', 'Change in Accounts Payable',\n",
              "       'Change in Other', 'Net Cash from Operating Activities',\n",
              "       'Change in Fixed Assets & Intangibles',\n",
              "       'Net Change in Long Term Investment',\n",
              "       'Net Cash from Acquisitions & Divestitures',\n",
              "       'Net Cash from Investing Activities', 'Dividends Paid',\n",
              "       'Cash from (Repayment of) Debt', 'Cash from (Repurchase of) Equity',\n",
              "       'Net Cash from Financing Activities', 'Net Change in Cash',\n",
              "       'Shares (Basic)', 'Cash, Cash Equivalents & Short Term Investments',\n",
              "       'Accounts & Notes Receivable', 'Inventories', 'Total Current Assets',\n",
              "       'Property, Plant & Equipment, Net',\n",
              "       'Long Term Investments & Receivables', 'Other Long Term Assets',\n",
              "       'Total Noncurrent Assets', 'Total Assets', 'Payables & Accruals',\n",
              "       'Short Term Debt', 'Total Current Liabilities', 'Long Term Debt',\n",
              "       'Total Noncurrent Liabilities', 'Total Liabilities',\n",
              "       'Share Capital & Additional Paid-In Capital', 'Treasury Stock',\n",
              "       'Retained Earnings', 'Total Equity', 'Total Liabilities & Equity',\n",
              "       'Date', 'Market-Cap'],\n",
              "      dtype='object')"
            ]
          },
          "metadata": {
            "tags": []
          },
          "execution_count": 49
        }
      ]
    },
    {
      "cell_type": "code",
      "metadata": {
        "id": "LA5XwpuzkrpG",
        "colab_type": "code",
        "colab": {}
      },
      "source": [
        "# remove unnecessary/duplicate columns\n",
        "sfc_df = super_df.drop([REPORT_DATE, 'Shares (Basic)_x'], axis=1)\n",
        "sfc_df.drop(super_df.filter(regex='_y$').columns.tolist(), axis=1,  inplace=True)\n",
        "\n",
        "# using dummies prevents our algorithm from finding a numerical relationship in \n",
        "# a categorical feature\n",
        "dummy_years = pd.get_dummies(sfc_df[DATE])\n",
        "sfc_df = pd.concat([sfc_df, dummy_years], axis=1)\n",
        "backtest_data = sfc_df[sfc_df[DATE].dt.year == 2018]\n",
        "ml_data = sfc_df[sfc_df[DATE].dt.year != 2018]\n",
        "del ml_data[DATE], ml_data[TICKER], backtest_data[DATE]\n",
        "ml_data = ml_data.fillna(value=0)"
      ],
      "execution_count": 0,
      "outputs": []
    },
    {
      "cell_type": "code",
      "metadata": {
        "id": "fA8fKWODB7zx",
        "colab_type": "code",
        "outputId": "9cf781ac-6dd2-4f4e-b093-108fe3c57cd0",
        "colab": {
          "base_uri": "https://localhost:8080/",
          "height": 151
        }
      },
      "source": [
        "# STEP 3: train model\n",
        "\n",
        "from sklearn.ensemble import RandomForestRegressor\n",
        "from sklearn.model_selection import train_test_split\n",
        "from sklearn import metrics\n",
        "model = RandomForestRegressor(random_state=42)\n",
        "\n",
        "y = ml_data[MARKET_CAP].values\n",
        "X = ml_data.drop(MARKET_CAP, axis=1).values\n",
        "X_train, X_test, y_train, y_test = train_test_split(X, y)\n",
        "model.fit(X_train, y_train)\n",
        "predicted = model.predict(X_test)\n",
        "print(metrics.r2_score(y_test, predicted))\n",
        "model.fit(X, y)"
      ],
      "execution_count": 122,
      "outputs": [
        {
          "output_type": "stream",
          "text": [
            "-212.62115216972546\n"
          ],
          "name": "stdout"
        },
        {
          "output_type": "execute_result",
          "data": {
            "text/plain": [
              "RandomForestRegressor(bootstrap=True, ccp_alpha=0.0, criterion='mse',\n",
              "                      max_depth=None, max_features='auto', max_leaf_nodes=None,\n",
              "                      max_samples=None, min_impurity_decrease=0.0,\n",
              "                      min_impurity_split=None, min_samples_leaf=1,\n",
              "                      min_samples_split=2, min_weight_fraction_leaf=0.0,\n",
              "                      n_estimators=100, n_jobs=None, oob_score=False,\n",
              "                      random_state=42, verbose=0, warm_start=False)"
            ]
          },
          "metadata": {
            "tags": []
          },
          "execution_count": 122
        }
      ]
    },
    {
      "cell_type": "code",
      "metadata": {
        "id": "bBjbJW74dXeQ",
        "colab_type": "code",
        "colab": {}
      },
      "source": [
        "from trade_stat_logger.logger import SimpleLogger\n",
        "\n",
        "# STEP 5: develop algorithm\n",
        "\n",
        "# format data that we will run through backtester\n",
        "latest_df = data5[[TICKER, DATE, MARKET_CAP]]\n",
        "# filter to get only companies that are alive in May 2020\n",
        "latest_df = latest_df[(latest_df[DATE].dt.year == 2020) & (latest_df[DATE].dt.month == 5)]\n",
        "latest_df.set_index(TICKER, inplace=True)\n",
        "\n",
        "logger = SimpleLogger()\n",
        "\n",
        "# predict market cap\n",
        "def predict(data):\n",
        "    return model.predict([data])[0]\n",
        "\n",
        "for index in backtest_data.index:\n",
        "    try:\n",
        "        row = backtest_data.loc[index].copy().fillna(value=0)\n",
        "        ticker = row[TICKER]\n",
        "        mktcap = row[MARKET_CAP]\n",
        "        mktcap_curr = latest_prices.loc[ticker][MARKET_CAP] / 1e6\n",
        "    except KeyError:\n",
        "        # means a ticker no longer exists or didn't exist before\n",
        "        break\n",
        "\n",
        "    position_size = mktcap / 1e6\n",
        "    position_size_curr = mktcap_curr / 1e6\n",
        "    del row[TICKER], row[MARKET_CAP]\n",
        "    predicted = predict(row)\n",
        "    #print(position_size)\n",
        "    if position_size > 0.0 and position_size_curr > 0:\n",
        "        if predicted * .9 < mktcap:\n",
        "            # case overvalued\n",
        "            logger.log(security=ticker, shares=-1, share_price=position_size)\n",
        "            logger.log(security=ticker, shares=1, share_price=position_size_curr)\n",
        "        elif predicted * 1.1 > mktcap:\n",
        "            # case undervalued\n",
        "            logger.log(security=ticker, shares=1, share_price=position_size)\n",
        "            logger.log(security=ticker, shares=-1, share_price=position_size_curr)\n",
        "    "
      ],
      "execution_count": 0,
      "outputs": []
    },
    {
      "cell_type": "code",
      "metadata": {
        "id": "o-Rf0PAGmnPn",
        "colab_type": "code",
        "outputId": "bf5b547a-d93f-46f9-c816-53c597a3deb5",
        "colab": {
          "base_uri": "https://localhost:8080/",
          "height": 618
        }
      },
      "source": [
        "# STEP 6: Analyze Algorithm Performance\n",
        "logger.graph_statistics()"
      ],
      "execution_count": 124,
      "outputs": [
        {
          "output_type": "stream",
          "text": [
            "/usr/local/lib/python3.6/dist-packages/trade_stat_logger/logger.py:115: UserWarning: For most accurate performance results, please clear all holdings, which you can do with clear_all_positions()\n",
            "  warn('For most accurate performance results, please clear all holdings, which you can do with clear_all_positions()')\n"
          ],
          "name": "stderr"
        },
        {
          "output_type": "display_data",
          "data": {
            "image/png": "[encoded data removed]",
            "text/plain": [
              "<Figure size 1080x576 with 4 Axes>"
            ]
          },
          "metadata": {
            "tags": [],
            "needs_background": "light"
          }
        }
      ]
    }
  ]
}